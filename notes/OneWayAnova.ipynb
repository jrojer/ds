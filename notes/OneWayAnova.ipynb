{
 "cells": [
  {
   "cell_type": "code",
   "execution_count": 3,
   "metadata": {},
   "outputs": [],
   "source": [
    "import pandas as pd\n",
    "\n",
    "# General stuff\n",
    "\n",
    "def mean(X):\n",
    "    '''Mean'''\n",
    "    return sum(X)/len(X)\n",
    "    \n",
    "# ANOVA\n",
    "\n",
    "def anova_analysis(groups):\n",
    "    m = len(groups)\n",
    "    n = sum(len(x) for x in groups)\n",
    "    mu = mean([x for X in groups for x in X])\n",
    "    ssq = sum((x-mu)**2 for X in groups for x in X)\n",
    "    ssb = sum(len(X)*(mean(X) - mu)**2 for X in groups)\n",
    "    f_value = (ssb/(m-1)) / ((ssq-ssb)/(n-m))\n",
    "    dframe = pd.DataFrame([\n",
    "            [m-1,ssb, ssb/(m-1), f_value],\n",
    "            [n-m,ssq-ssb, (ssq-ssb)/(n-m),'']], \n",
    "            ['Group','Residuals'],['Df','Sum sq', 'Mean sq', 'F value'])\n",
    "    return dframe"
   ]
  },
  {
   "cell_type": "code",
   "execution_count": 4,
   "metadata": {},
   "outputs": [
    {
     "data": {
      "text/html": [
       "<div>\n",
       "<style scoped>\n",
       "    .dataframe tbody tr th:only-of-type {\n",
       "        vertical-align: middle;\n",
       "    }\n",
       "\n",
       "    .dataframe tbody tr th {\n",
       "        vertical-align: top;\n",
       "    }\n",
       "\n",
       "    .dataframe thead th {\n",
       "        text-align: right;\n",
       "    }\n",
       "</style>\n",
       "<table border=\"1\" class=\"dataframe\">\n",
       "  <thead>\n",
       "    <tr style=\"text-align: right;\">\n",
       "      <th></th>\n",
       "      <th>Df</th>\n",
       "      <th>Sum sq</th>\n",
       "      <th>Mean sq</th>\n",
       "      <th>F value</th>\n",
       "    </tr>\n",
       "  </thead>\n",
       "  <tbody>\n",
       "    <tr>\n",
       "      <th>Group</th>\n",
       "      <td>3</td>\n",
       "      <td>560.716667</td>\n",
       "      <td>186.905556</td>\n",
       "      <td>8.0373</td>\n",
       "    </tr>\n",
       "    <tr>\n",
       "      <th>Residuals</th>\n",
       "      <td>56</td>\n",
       "      <td>1302.266667</td>\n",
       "      <td>23.254762</td>\n",
       "      <td></td>\n",
       "    </tr>\n",
       "  </tbody>\n",
       "</table>\n",
       "</div>"
      ],
      "text/plain": [
       "           Df       Sum sq     Mean sq F value\n",
       "Group       3   560.716667  186.905556  8.0373\n",
       "Residuals  56  1302.266667   23.254762        "
      ]
     },
     "execution_count": 4,
     "metadata": {},
     "output_type": "execute_result"
    }
   ],
   "source": [
    "dframe = pd.read_csv('data/genetherapy.csv')\n",
    "\n",
    "names = sorted(list(set(dframe['Therapy'])))\n",
    "groups = [[x for x in dframe[dframe['Therapy'] == group]['expr']] for group in names]\n",
    "\n",
    "anova_analysis(groups)"
   ]
  }
 ],
 "metadata": {
  "kernelspec": {
   "display_name": "Python 3",
   "language": "python",
   "name": "python3"
  },
  "language_info": {
   "codemirror_mode": {
    "name": "ipython",
    "version": 3
   },
   "file_extension": ".py",
   "mimetype": "text/x-python",
   "name": "python",
   "nbconvert_exporter": "python",
   "pygments_lexer": "ipython3",
   "version": "3.6.9"
  }
 },
 "nbformat": 4,
 "nbformat_minor": 2
}
