{
 "cells": [
  {
   "cell_type": "code",
   "execution_count": 15,
   "metadata": {},
   "outputs": [],
   "source": [
    "%matplotlib inline\n",
    "import matplotlib.pyplot as plt\n",
    "from random import sample, random, normalvariate, randint\n",
    "\n",
    "\n",
    "def get_scores(num_photos):\n",
    "    return [int(normalvariate(50,50)) for i in range(num_photos)]\n",
    "\n",
    "\n",
    "def get_histogram(Y):\n",
    "    fig = plt.figure(figsize=(8,6))\n",
    "    plt.xlabel('Рейтинг фотографии')\n",
    "    plt.ylabel('Количество')\n",
    "    plt.hist(Y, bins=10, density=False)\n",
    "    plt.grid(alpha=0.2)\n",
    "    plt.show()\n",
    "\n",
    "    \n",
    "def collect_comparisons(true_scores, photo_ids, num_executors, num_comparisons_per_executor, error_probability):\n",
    "    stats = {}\n",
    "    for i in range(num_executors * num_comparisons_per_executor):\n",
    "        p1,p2 = sample(photo_ids,2)\n",
    "\n",
    "        p1,p2 = (p2,p1) if p2 < p1 else (p1,p2) # неупорядоченные пары\n",
    "\n",
    "        stats.setdefault(p1,{}).setdefault(p2,{})\n",
    "        stats[p1][p2].setdefault(True,0)\n",
    "        stats[p1][p2].setdefault(False,0)\n",
    "\n",
    "        true_result = true_scores[p1] > true_scores[p2]\n",
    "        if random() < error_probability:\n",
    "            true_result = not true_result\n",
    "\n",
    "        stats[p1][p2][true_result] += 1 \n",
    "    return stats\n",
    "\n",
    "\n",
    "def build_graph(stats):\n",
    "    graph = {}\n",
    "    for p1 in stats:\n",
    "        for p2 in stats[p1]:\n",
    "            if stats[p1][p2][True] > stats[p1][p2][False]:\n",
    "                graph.setdefault(p1,[])\n",
    "                graph[p1].append(p2) # ребро есть если фото p1 лучше фото p2\n",
    "            else:\n",
    "                graph.setdefault(p2,[])\n",
    "                graph[p2].append(p1) # ребро есть если фото p2 лучше фото p1\n",
    "    return graph\n",
    "\n",
    "\n",
    "def get_in_degree_all(graph):\n",
    "    def no_input_edge(v):\n",
    "        for p in graph:\n",
    "            if v in graph[p]:\n",
    "                return False\n",
    "        return True\n",
    "    d = {}\n",
    "    for p in graph:\n",
    "        for v in graph[p]:\n",
    "            d.setdefault(v,0)\n",
    "            d[v] += 1\n",
    "        if no_input_edge(p):\n",
    "            d[p] = 0\n",
    "    return d\n",
    "\n",
    "\n",
    "def get_best(graph):\n",
    "    in_degree = get_in_degree_all(graph)\n",
    "    ans = []\n",
    "    for i in range(12):\n",
    "        ans.append([p for p in in_degree if in_degree[p] == i])\n",
    "    return ans\n",
    "        \n",
    "\n",
    "\n",
    "def remove_random_edge(graph, cycle):\n",
    "    assert(len(cycle) > 2)\n",
    "    a = graph[cycle[1]]\n",
    "    del a[a.index(cycle[0])]\n",
    "\n",
    "\n",
    "def dfs(p, graph, visited, topsorting):\n",
    "    stack = [p]\n",
    "    cycle = []\n",
    "    cycle_detected = False\n",
    "    while len(stack) > 0:\n",
    "        p = stack[-1] # top\n",
    "        if p not in visited: \n",
    "            if cycle_detected:\n",
    "                stack.pop()\n",
    "                continue\n",
    "            else:\n",
    "                visited[p] = 1 # make grey\n",
    "        elif visited[p] == 1:\n",
    "            visited[p] = 2 # make black\n",
    "            stack.pop()\n",
    "            topsorting.append(p)\n",
    "            if cycle_detected:\n",
    "                cycle.append(p)\n",
    "            continue\n",
    "        else:\n",
    "            stack.pop()\n",
    "            continue \n",
    "        if p in graph:\n",
    "            for child in graph[p]:\n",
    "                if child not in visited:\n",
    "                    stack.append(child)\n",
    "                elif visited[child] == 1: # grey vertex\n",
    "                    cycle_detected = True\n",
    "                    break\n",
    "    return cycle\n",
    "            \n",
    "    \n",
    "def check_cycles(graph):\n",
    "    visited = dict()\n",
    "    for p in graph.keys():\n",
    "        cycle = dfs(p, graph, visited, [])\n",
    "        if len(cycle) > 0:\n",
    "            return cycle\n",
    "    else:\n",
    "        return []\n",
    "    \n",
    "    \n",
    "def topsort(graph):\n",
    "    visited = dict()\n",
    "    ans = []\n",
    "    for p in graph.keys():\n",
    "        if p not in visited:\n",
    "            dfs(p, graph, visited, ans)\n",
    "    return ans[::-1]\n"
   ]
  },
  {
   "cell_type": "code",
   "execution_count": 3,
   "metadata": {},
   "outputs": [],
   "source": [
    "def test_topsort():\n",
    "    test_graph = {\n",
    "        3:[8,10],\n",
    "        5:[11],\n",
    "        7:[11,8],\n",
    "        8:[9],\n",
    "        11:[2,9,10]\n",
    "    }\n",
    "    assert topsort(test_graph) == [7, 5, 11, 2, 3, 8, 9, 10]"
   ]
  },
  {
   "cell_type": "code",
   "execution_count": 4,
   "metadata": {},
   "outputs": [],
   "source": [
    "def get_graph(stats): \n",
    "    graph = build_graph(stats)\n",
    "\n",
    "    cycle_exists = True\n",
    "    while cycle_exists:\n",
    "        cycle = check_cycles(graph)\n",
    "        if len(cycle) == 0:\n",
    "            cycle_exists = False\n",
    "        else:\n",
    "            remove_random_edge(graph, cycle)\n",
    "\n",
    "    return graph"
   ]
  },
  {
   "cell_type": "code",
   "execution_count": 53,
   "metadata": {},
   "outputs": [],
   "source": [
    "def run_model(photo_scores):\n",
    "    num_photos = 10\n",
    "    num_executors = 3\n",
    "    num_comparisons_per_executor = 10\n",
    "    error_probability = 0.20\n",
    "\n",
    "    photo_ids = list(range(len(photo_scores)))\n",
    "    return collect_comparisons(photo_scores, photo_ids, num_executors, num_comparisons_per_executor, error_probability)"
   ]
  },
  {
   "cell_type": "code",
   "execution_count": 54,
   "metadata": {},
   "outputs": [
    {
     "data": {
      "image/png": "[encoded data removed]",
      "text/plain": [
       "<Figure size 576x432 with 1 Axes>"
      ]
     },
     "metadata": {},
     "output_type": "display_data"
    },
    {
     "data": {
      "text/plain": [
       "[<matplotlib.lines.Line2D at 0x7fb6a565eeb8>]"
      ]
     },
     "execution_count": 54,
     "metadata": {},
     "output_type": "execute_result"
    },
    {
     "data": {
      "image/png": "[encoded data removed]",
      "text/plain": [
       "<Figure size 432x288 with 1 Axes>"
      ]
     },
     "metadata": {},
     "output_type": "display_data"
    }
   ],
   "source": [
    "num_photos = 10\n",
    "photo_scores = get_scores(num_photos)\n",
    "get_histogram(photo_scores)\n",
    "\n",
    "stats = run_model(photo_scores)\n",
    "\n",
    "graph = get_graph(stats)\n",
    "\n",
    "sorting = topsort(graph)[::-1]\n",
    "\n",
    "plt.plot(list(range(len(sorting))),[photo_scores[p] for p in sorting])\n",
    "plt.title('Топологическая, e = 20%')\n",
    "plt.xlabel('Номер фотографии')\n",
    "plt.ylabel('Рейтинг')\n",
    "\n",
    "ideal = sorted(sorting, key = lambda x: photo_scores[x])\n",
    "plt.plot(list(range(len(ideal))),[photo_scores[p] for p in ideal])\n",
    "\n",
    "\n",
    "\n"
   ]
  },
  {
   "cell_type": "code",
   "execution_count": 55,
   "metadata": {},
   "outputs": [
    {
     "data": {
      "text/plain": [
       "[<matplotlib.lines.Line2D at 0x7fb6a5211ba8>]"
      ]
     },
     "execution_count": 55,
     "metadata": {},
     "output_type": "execute_result"
    },
    {
     "data": {
      "image/png": "[encoded data removed]",
      "text/plain": [
       "<Figure size 432x288 with 1 Axes>"
      ]
     },
     "metadata": {},
     "output_type": "display_data"
    }
   ],
   "source": [
    "indegree = get_in_degree_all(graph)\n",
    "ind_sorted = sorted(sorting, key = lambda x: -indegree[x])\n",
    "plt.plot(list(range(len(ind_sorted))),[photo_scores[p] for p in ind_sorted])\n",
    "plt.title('По величине входной степени, e = 20%')\n",
    "plt.xlabel('Номер фотографии')\n",
    "plt.ylabel('Рейтинг')\n",
    "\n",
    "ideal = sorted(sorting, key = lambda x: photo_scores[x])\n",
    "plt.plot(list(range(len(ideal))),[photo_scores[p] for p in ideal])"
   ]
  },
  {
   "cell_type": "code",
   "execution_count": 56,
   "metadata": {},
   "outputs": [
    {
     "name": "stdout",
     "output_type": "stream",
     "text": [
      "[0.46, 0.24, 0.17, 0.15, 0.11, 0.04, 0.09, 0.05, 0.05]\n",
      "[0.11, 0.27, 0.39, 0.35, 0.44, 0.59, 0.53, 0.78, 0.77]\n"
     ]
    }
   ],
   "source": [
    "def measure():\n",
    "    res = []\n",
    "    for i in range(100):\n",
    "        photo_scores = get_scores(num_photos)\n",
    "        stats = run_model(photo_scores)\n",
    "        graph = get_graph(stats)\n",
    "        \n",
    "        a = get_best(graph)\n",
    "        a = [photo_scores[y] for x in a for y in x]\n",
    "        res.append(a)\n",
    "    return res\n",
    "\n",
    "res = measure()\n",
    "\n",
    "n = min(len(r) for r in res)\n",
    "good_p = [0 for i in range(n)]\n",
    "bad_p = [0 for i in range(n)]\n",
    "for r in res:\n",
    "    for i in range(n):\n",
    "        good_p[i] += r[i] > 100\n",
    "        bad_p[i] += r[i] < 50\n",
    "\n",
    "s = len(res)\n",
    "for i in range(n):\n",
    "    good_p[i] /= s\n",
    "    bad_p[i] /= s\n",
    "\n",
    "print(good_p)\n",
    "print(bad_p)"
   ]
  },
  {
   "cell_type": "code",
   "execution_count": 43,
   "metadata": {},
   "outputs": [
    {
     "data": {
      "text/plain": [
       "[[140, 133],\n",
       " [],\n",
       " [145, 128, 131],\n",
       " [148, 142],\n",
       " [126],\n",
       " [113, 63, 108],\n",
       " [45],\n",
       " [136, 43],\n",
       " [82],\n",
       " [119, 96, 104, 139],\n",
       " [30, 67, 87, 85, 70],\n",
       " []]"
      ]
     },
     "execution_count": 43,
     "metadata": {},
     "output_type": "execute_result"
    }
   ],
   "source": [
    "get_best(graph)"
   ]
  },
  {
   "cell_type": "code",
   "execution_count": null,
   "metadata": {},
   "outputs": [],
   "source": []
  }
 ],
 "metadata": {
  "kernelspec": {
   "display_name": "Python 3",
   "language": "python",
   "name": "python3"
  },
  "language_info": {
   "codemirror_mode": {
    "name": "ipython",
    "version": 3
   },
   "file_extension": ".py",
   "mimetype": "text/x-python",
   "name": "python",
   "nbconvert_exporter": "python",
   "pygments_lexer": "ipython3",
   "version": "3.6.9"
  }
 },
 "nbformat": 4,
 "nbformat_minor": 2
}
