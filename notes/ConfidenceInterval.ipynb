{
 "cells": [
  {
   "cell_type": "code",
   "execution_count": 14,
   "metadata": {},
   "outputs": [],
   "source": [
    "import pandas as pd\n",
    "import matplotlib.pyplot as plt"
   ]
  },
  {
   "cell_type": "code",
   "execution_count": 15,
   "metadata": {},
   "outputs": [],
   "source": [
    "def mean(X):\n",
    "    '''Mean'''\n",
    "    return sum(X)/len(X)\n",
    "\n",
    "\n",
    "def D(X):\n",
    "    '''Variance'''\n",
    "    N = len(X)\n",
    "    ax = mean(X)\n",
    "    return sum((x-ax)**2 for x in X)/(N-1)\n",
    "\n",
    "\n",
    "def sd(X):\n",
    "    '''Standard deviation of X'''\n",
    "    return D(X)**.5\n",
    "\n",
    "\n",
    "def new_ax(xlabel = '', ylabel = '', title = '', equal=True):\n",
    "    fig = plt.figure(figsize=(7, 9))\n",
    "    ax = fig.add_subplot()\n",
    "    if equal:\n",
    "        ax.set_aspect('equal')\n",
    "    ax.grid()\n",
    "    ax.set_xlabel(xlabel)\n",
    "    ax.set_ylabel(ylabel)\n",
    "    ax.set_title(title)\n",
    "    return ax\n",
    "\n",
    "\n",
    "def plot_interval(group, X, color='b', ax=None):\n",
    "    m = mean(X)\n",
    "    se = sd(X)/len(X)**.5\n",
    "    y1 = m - 1.96*se\n",
    "    y2 = m + 1.96*se\n",
    "    ax = ax if ax else new_ax('Group','Value', equal=False)\n",
    "    ax.plot([group,group],[y1,y2], color+'-')\n",
    "    ax.plot([group, group],[m,m],color+'s')\n",
    "    ax.plot([group, group],[y1,y1],color+'_',markersize=20)\n",
    "    ax.plot([group, group],[y2,y2],color+'_',markersize=20)\n",
    "    return ax"
   ]
  },
  {
   "cell_type": "code",
   "execution_count": 16,
   "metadata": {},
   "outputs": [],
   "source": [
    "dframe = pd.read_csv('data/atherosclerosis.csv')"
   ]
  },
  {
   "cell_type": "code",
   "execution_count": 17,
   "metadata": {},
   "outputs": [
    {
     "data": {
      "text/plain": [
       "<AxesSubplot:xlabel='Дозировка.\\nСлева низкая. Справа высокая.\\nСиний -- пожилые, красный -- молодые.', ylabel='Уровень экспрессии'>"
      ]
     },
     "execution_count": 17,
     "metadata": {},
     "output_type": "execute_result"
    },
    {
     "data": {
      "image/png": "[encoded data removed]",
      "text/plain": [
       "<Figure size 504x648 with 1 Axes>"
      ]
     },
     "metadata": {},
     "output_type": "display_data"
    }
   ],
   "source": [
    "X_1d1 = dframe[(dframe['age'] == 1) & (dframe['dose'] == 'D1')]['expr']\n",
    "X_2d1 = dframe[(dframe['age'] == 2) & (dframe['dose'] == 'D1')]['expr']\n",
    "X_1d2 = dframe[(dframe['age'] == 1) & (dframe['dose'] == 'D2')]['expr']\n",
    "X_2d2 = dframe[(dframe['age'] == 2) & (dframe['dose'] == 'D2')]['expr']\n",
    "\n",
    "ax = new_ax('Дозировка.\\nСлева низкая. Справа высокая.\\nСиний -- пожилые, красный -- молодые.', 'Уровень экспрессии', equal=False)\n",
    "plot_interval(0.9, X_1d1, 'r', ax)\n",
    "plot_interval(1.1, X_2d1, 'b', ax)\n",
    "plot_interval(1.9, X_1d2, 'r', ax)\n",
    "plot_interval(2.1, X_2d2, 'b', ax)"
   ]
  }
 ],
 "metadata": {
  "kernelspec": {
   "display_name": "Python 3",
   "language": "python",
   "name": "python3"
  },
  "language_info": {
   "codemirror_mode": {
    "name": "ipython",
    "version": 3
   },
   "file_extension": ".py",
   "mimetype": "text/x-python",
   "name": "python",
   "nbconvert_exporter": "python",
   "pygments_lexer": "ipython3",
   "version": "3.6.9"
  }
 },
 "nbformat": 4,
 "nbformat_minor": 2
}
