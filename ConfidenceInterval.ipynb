{
 "cells": [
  {
   "cell_type": "code",
   "execution_count": 1,
   "metadata": {},
   "outputs": [],
   "source": [
    "import pandas as pd\n",
    "import matplotlib.pyplot as plt"
   ]
  },
  {
   "cell_type": "code",
   "execution_count": 8,
   "metadata": {},
   "outputs": [],
   "source": [
    "def mean(X):\n",
    "    '''Mean'''\n",
    "    return sum(X)/len(X)\n",
    "\n",
    "\n",
    "def D(X):\n",
    "    '''Variance'''\n",
    "    N = len(X)\n",
    "    ax = mean(X)\n",
    "    return sum((x-ax)**2 for x in X)/(N-1)\n",
    "\n",
    "\n",
    "\n",
    "\n",
    "def cov(X, Y):\n",
    "    '''Covariance of X and Y'''\n",
    "    N = len(X)\n",
    "    ax = mean(X) # среднее X\n",
    "    ay = mean(Y) # среднее Y\n",
    "    return sum((x-ax)*(y-ay) for x,y in zip(X,Y))/(N-1)\n",
    "\n",
    "\n",
    "def sd(X):\n",
    "    '''Standard deviation of X'''\n",
    "    return D(X)**.5\n",
    "\n",
    "\n",
    "def new_ax(xlabel = '', ylabel = '', title = '', equal=True):\n",
    "    fig = plt.figure(figsize=(7, 9))\n",
    "    ax = fig.add_subplot()\n",
    "    if equal:\n",
    "        ax.set_aspect('equal')\n",
    "    ax.grid()\n",
    "    ax.set_xlabel(xlabel)\n",
    "    ax.set_ylabel(ylabel)\n",
    "    ax.set_title(title)\n",
    "    return ax\n",
    "\n",
    "\n",
    "def plot_interval(group, X, color='b', ax=None):\n",
    "    m = mean(X)\n",
    "    se = sd(X)/len(X)**.5\n",
    "    y1 = m - 1.96*se\n",
    "    y2 = m + 1.96*se\n",
    "    ax = ax if ax else new_ax('Group','Value', equal=False)\n",
    "    ax.plot([group,group],[y1,y2], color+'-')\n",
    "    ax.plot([group, group],[m,m],color+'s')\n",
    "    ax.plot([group, group],[y1,y1],color+'_',markersize=20)\n",
    "    ax.plot([group, group],[y2,y2],color+'_',markersize=20)\n",
    "    return ax"
   ]
  },
  {
   "cell_type": "code",
   "execution_count": 9,
   "metadata": {},
   "outputs": [],
   "source": [
    "dframe = pd.read_csv('atherosclerosis.csv')"
   ]
  },
  {
   "cell_type": "code",
   "execution_count": 10,
   "metadata": {},
   "outputs": [
    {
     "ename": "NameError",
     "evalue": "name 'sd' is not defined",
     "output_type": "error",
     "traceback": [
      "\u001b[0;31m---------------------------------------------------------------------------\u001b[0m",
      "\u001b[0;31mNameError\u001b[0m                                 Traceback (most recent call last)",
      "\u001b[0;32m<ipython-input-10-14bb14d2057e>\u001b[0m in \u001b[0;36m<module>\u001b[0;34m()\u001b[0m\n\u001b[1;32m      5\u001b[0m \u001b[0;34m\u001b[0m\u001b[0m\n\u001b[1;32m      6\u001b[0m \u001b[0max\u001b[0m \u001b[0;34m=\u001b[0m \u001b[0mnew_ax\u001b[0m\u001b[0;34m(\u001b[0m\u001b[0;34m'Дозировка.\\nСлева низкая. Справа высокая.\\nСиний -- пожилые, красный -- молодые.'\u001b[0m\u001b[0;34m,\u001b[0m \u001b[0;34m'Уровень экспрессии'\u001b[0m\u001b[0;34m,\u001b[0m \u001b[0mequal\u001b[0m\u001b[0;34m=\u001b[0m\u001b[0;32mFalse\u001b[0m\u001b[0;34m)\u001b[0m\u001b[0;34m\u001b[0m\u001b[0;34m\u001b[0m\u001b[0m\n\u001b[0;32m----> 7\u001b[0;31m \u001b[0mplot_interval\u001b[0m\u001b[0;34m(\u001b[0m\u001b[0;36m0.9\u001b[0m\u001b[0;34m,\u001b[0m \u001b[0mX_1d1\u001b[0m\u001b[0;34m,\u001b[0m \u001b[0;34m'r'\u001b[0m\u001b[0;34m,\u001b[0m \u001b[0max\u001b[0m\u001b[0;34m)\u001b[0m\u001b[0;34m\u001b[0m\u001b[0;34m\u001b[0m\u001b[0m\n\u001b[0m\u001b[1;32m      8\u001b[0m \u001b[0mplot_interval\u001b[0m\u001b[0;34m(\u001b[0m\u001b[0;36m1.1\u001b[0m\u001b[0;34m,\u001b[0m \u001b[0mX_2d1\u001b[0m\u001b[0;34m,\u001b[0m \u001b[0;34m'b'\u001b[0m\u001b[0;34m,\u001b[0m \u001b[0max\u001b[0m\u001b[0;34m)\u001b[0m\u001b[0;34m\u001b[0m\u001b[0;34m\u001b[0m\u001b[0m\n\u001b[1;32m      9\u001b[0m \u001b[0mplot_interval\u001b[0m\u001b[0;34m(\u001b[0m\u001b[0;36m1.9\u001b[0m\u001b[0;34m,\u001b[0m \u001b[0mX_1d2\u001b[0m\u001b[0;34m,\u001b[0m \u001b[0;34m'r'\u001b[0m\u001b[0;34m,\u001b[0m \u001b[0max\u001b[0m\u001b[0;34m)\u001b[0m\u001b[0;34m\u001b[0m\u001b[0;34m\u001b[0m\u001b[0m\n",
      "\u001b[0;32m<ipython-input-8-1864016d6c83>\u001b[0m in \u001b[0;36mplot_interval\u001b[0;34m(group, X, color, ax)\u001b[0m\n\u001b[1;32m     18\u001b[0m \u001b[0;32mdef\u001b[0m \u001b[0mplot_interval\u001b[0m\u001b[0;34m(\u001b[0m\u001b[0mgroup\u001b[0m\u001b[0;34m,\u001b[0m \u001b[0mX\u001b[0m\u001b[0;34m,\u001b[0m \u001b[0mcolor\u001b[0m\u001b[0;34m=\u001b[0m\u001b[0;34m'b'\u001b[0m\u001b[0;34m,\u001b[0m \u001b[0max\u001b[0m\u001b[0;34m=\u001b[0m\u001b[0;32mNone\u001b[0m\u001b[0;34m)\u001b[0m\u001b[0;34m:\u001b[0m\u001b[0;34m\u001b[0m\u001b[0;34m\u001b[0m\u001b[0m\n\u001b[1;32m     19\u001b[0m     \u001b[0mm\u001b[0m \u001b[0;34m=\u001b[0m \u001b[0mmean\u001b[0m\u001b[0;34m(\u001b[0m\u001b[0mX\u001b[0m\u001b[0;34m)\u001b[0m\u001b[0;34m\u001b[0m\u001b[0;34m\u001b[0m\u001b[0m\n\u001b[0;32m---> 20\u001b[0;31m     \u001b[0mse\u001b[0m \u001b[0;34m=\u001b[0m \u001b[0msd\u001b[0m\u001b[0;34m(\u001b[0m\u001b[0mX\u001b[0m\u001b[0;34m)\u001b[0m\u001b[0;34m/\u001b[0m\u001b[0mlen\u001b[0m\u001b[0;34m(\u001b[0m\u001b[0mX\u001b[0m\u001b[0;34m)\u001b[0m\u001b[0;34m**\u001b[0m\u001b[0;36m.5\u001b[0m\u001b[0;34m\u001b[0m\u001b[0;34m\u001b[0m\u001b[0m\n\u001b[0m\u001b[1;32m     21\u001b[0m     \u001b[0my1\u001b[0m \u001b[0;34m=\u001b[0m \u001b[0mm\u001b[0m \u001b[0;34m-\u001b[0m \u001b[0;36m1.96\u001b[0m\u001b[0;34m*\u001b[0m\u001b[0mse\u001b[0m\u001b[0;34m\u001b[0m\u001b[0;34m\u001b[0m\u001b[0m\n\u001b[1;32m     22\u001b[0m     \u001b[0my2\u001b[0m \u001b[0;34m=\u001b[0m \u001b[0mm\u001b[0m \u001b[0;34m+\u001b[0m \u001b[0;36m1.96\u001b[0m\u001b[0;34m*\u001b[0m\u001b[0mse\u001b[0m\u001b[0;34m\u001b[0m\u001b[0;34m\u001b[0m\u001b[0m\n",
      "\u001b[0;31mNameError\u001b[0m: name 'sd' is not defined"
     ]
    },
    {
     "data": {
      "image/png": "[encoded data removed]",
      "text/plain": [
       "<Figure size 504x648 with 1 Axes>"
      ]
     },
     "metadata": {},
     "output_type": "display_data"
    }
   ],
   "source": [
    "X_1d1 = dframe[(dframe['age'] == 1) & (dframe['dose'] == 'D1')]['expr']\n",
    "X_2d1 = dframe[(dframe['age'] == 2) & (dframe['dose'] == 'D1')]['expr']\n",
    "X_1d2 = dframe[(dframe['age'] == 1) & (dframe['dose'] == 'D2')]['expr']\n",
    "X_2d2 = dframe[(dframe['age'] == 2) & (dframe['dose'] == 'D2')]['expr']\n",
    "\n",
    "ax = new_ax('Дозировка.\\nСлева низкая. Справа высокая.\\nСиний -- пожилые, красный -- молодые.', 'Уровень экспрессии', equal=False)\n",
    "plot_interval(0.9, X_1d1, 'r', ax)\n",
    "plot_interval(1.1, X_2d1, 'b', ax)\n",
    "plot_interval(1.9, X_1d2, 'r', ax)\n",
    "plot_interval(2.1, X_2d2, 'b', ax)"
   ]
  },
  {
   "cell_type": "code",
   "execution_count": null,
   "metadata": {},
   "outputs": [],
   "source": []
  }
 ],
 "metadata": {
  "kernelspec": {
   "display_name": "Python 3",
   "language": "python",
   "name": "python3"
  },
  "language_info": {
   "codemirror_mode": {
    "name": "ipython",
    "version": 3
   },
   "file_extension": ".py",
   "mimetype": "text/x-python",
   "name": "python",
   "nbconvert_exporter": "python",
   "pygments_lexer": "ipython3",
   "version": "3.6.9"
  }
 },
 "nbformat": 4,
 "nbformat_minor": 2
}
